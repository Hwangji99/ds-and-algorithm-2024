{
 "cells": [
  {
   "cell_type": "code",
   "execution_count": 23,
   "metadata": {},
   "outputs": [],
   "source": [
    "# date : 2024-02-13\n",
    "# file : ds06_simpleLinkedList.ipynb\n",
    "# desc : 단순 연결리스트 학습"
   ]
  },
  {
   "cell_type": "code",
   "execution_count": 2,
   "metadata": {},
   "outputs": [],
   "source": [
    "# 연결리스트 노드 클래스\n",
    "class Node():\n",
    "    # data, link 두 개의 멤버변수 존재\n",
    "    # 생성자 추가\n",
    "    def __init__(self, name) -> None:\n",
    "        self.data = name\n",
    "        self.link = None"
   ]
  },
  {
   "cell_type": "code",
   "execution_count": 6,
   "metadata": {},
   "outputs": [
    {
     "name": "stdout",
     "output_type": "stream",
     "text": [
      "찬규 None\n"
     ]
    }
   ],
   "source": [
    "node1 = Node('찬규')\n",
    "print(node1.data, end=' ')\n",
    "print(node1.link)"
   ]
  },
  {
   "cell_type": "code",
   "execution_count": 9,
   "metadata": {},
   "outputs": [
    {
     "name": "stdout",
     "output_type": "stream",
     "text": [
      "None\n"
     ]
    }
   ],
   "source": [
    "print(node1.link)"
   ]
  },
  {
   "cell_type": "code",
   "execution_count": 5,
   "metadata": {},
   "outputs": [
    {
     "name": "stdout",
     "output_type": "stream",
     "text": [
      "지환 None\n"
     ]
    }
   ],
   "source": [
    "node2 = Node('지환')\n",
    "node1.link = node2\n",
    "print(node2.data, end=' ')\n",
    "print(node2.link)"
   ]
  },
  {
   "cell_type": "code",
   "execution_count": 10,
   "metadata": {},
   "outputs": [],
   "source": [
    "## 5개 노드 연결리스트\n",
    "node1 = Node('찬규')\n",
    "\n",
    "node2 = Node('지환')\n",
    "node1.link = node2\n",
    "\n",
    "node3 = Node('경민')\n",
    "node2.link = node3\n",
    "\n",
    "node4 = Node('소민')\n",
    "node3.link = node4\n",
    "\n",
    "node5 = Node('은수')\n",
    "node4.link = node5"
   ]
  },
  {
   "cell_type": "code",
   "execution_count": 13,
   "metadata": {},
   "outputs": [
    {
     "name": "stdout",
     "output_type": "stream",
     "text": [
      "찬규 -> 지환 -> 경민 -> 소민 -> 은수 : "
     ]
    }
   ],
   "source": [
    "print(node1.data, end=' -> ') # node1\n",
    "print(node1.link.data, end=' -> ') # node2\n",
    "print(node1.link.link.data, end=' -> ') # node3\n",
    "print(node1.link.link.link.data, end=' -> ') # node4\n",
    "print(node1.link.link.link.link.data, end=' : ') # node5 "
   ]
  },
  {
   "cell_type": "code",
   "execution_count": 14,
   "metadata": {},
   "outputs": [
    {
     "data": {
      "text/plain": [
       "['찬규', '지환', '경민', '소민', '은수']"
      ]
     },
     "execution_count": 14,
     "metadata": {},
     "output_type": "execute_result"
    }
   ],
   "source": [
    "# 파이썬의 리스트가 위와 동일한 구조로 만들어져있음\n",
    "friends = []\n",
    "friends.append('찬규')\n",
    "friends.append('지환')\n",
    "friends.append('경민')\n",
    "friends.append('소민')\n",
    "friends.append('은수')\n",
    "friends"
   ]
  },
  {
   "cell_type": "code",
   "execution_count": 15,
   "metadata": {},
   "outputs": [
    {
     "name": "stdout",
     "output_type": "stream",
     "text": [
      "찬규 -> 지환 -> 경민 -> 소민 -> 은수 -> "
     ]
    }
   ],
   "source": [
    "## 연결리스트 출력방법\n",
    "current = node1\n",
    "print(current.data, end=' -> ')\n",
    "while current.link != None:\n",
    "    current = current.link # 내 노드 다음의 노드가 current가 됨\n",
    "    print(current.data, end=' -> ')"
   ]
  },
  {
   "cell_type": "code",
   "execution_count": 16,
   "metadata": {},
   "outputs": [],
   "source": [
    "## 새 노드 삽입\n",
    "newNode = Node('재남')\n",
    "newNode.link = node2.link\n",
    "node2.link = newNode"
   ]
  },
  {
   "cell_type": "code",
   "execution_count": 17,
   "metadata": {},
   "outputs": [
    {
     "name": "stdout",
     "output_type": "stream",
     "text": [
      "찬규 -> 지환 -> 재남 -> 경민 -> 소민 -> 은수 -> "
     ]
    }
   ],
   "source": [
    "current = node1\n",
    "print(current.data, end=' -> ')\n",
    "while current.link != None:\n",
    "    current = current.link # 내 노드 다음의 노드가 current가 됨\n",
    "    print(current.data, end=' -> ')"
   ]
  },
  {
   "cell_type": "code",
   "execution_count": 18,
   "metadata": {},
   "outputs": [],
   "source": [
    "## 기존 노드 삭제(경민), 살아는 있음\n",
    "newNode.link = node3.link"
   ]
  },
  {
   "cell_type": "code",
   "execution_count": 19,
   "metadata": {},
   "outputs": [
    {
     "name": "stdout",
     "output_type": "stream",
     "text": [
      "찬규 -> 지환 -> 재남 -> 소민 -> 은수 -> "
     ]
    }
   ],
   "source": [
    "current = node1\n",
    "print(current.data, end=' -> ')\n",
    "while current.link != None:\n",
    "    current = current.link # 내 노드 다음의 노드가 current가 됨\n",
    "    print(current.data, end=' -> ')"
   ]
  },
  {
   "cell_type": "code",
   "execution_count": 21,
   "metadata": {},
   "outputs": [],
   "source": [
    "## 완벽한 삭제를 위해서 node3을 없애줌\n",
    "del(node3)"
   ]
  },
  {
   "cell_type": "markdown",
   "metadata": {},
   "source": [
    "### 선형리스트와 연결리스트 비교\n",
    "- 선형리스트는 메모리 저장 장소의 최적화는 있지만, 삽입이나 삭제 시 처리시간에 대한 오버헤드는 존재(꽤 많이)\n",
    "- 연결리스트는 메모리 공간 오버헤드는 존재(current, node.link 등), 삽입 / 삭제 처리시간은 최적화\n",
    "- 그래서 현대의 IT에서는 선형리스트를 거의 사용하지 않음"
   ]
  }
 ],
 "metadata": {
  "kernelspec": {
   "display_name": "Python 3",
   "language": "python",
   "name": "python3"
  },
  "language_info": {
   "codemirror_mode": {
    "name": "ipython",
    "version": 3
   },
   "file_extension": ".py",
   "mimetype": "text/x-python",
   "name": "python",
   "nbconvert_exporter": "python",
   "pygments_lexer": "ipython3",
   "version": "3.11.5"
  }
 },
 "nbformat": 4,
 "nbformat_minor": 2
}
