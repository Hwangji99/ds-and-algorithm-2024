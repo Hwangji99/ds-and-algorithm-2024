{
 "cells": [
  {
   "cell_type": "code",
   "execution_count": 63,
   "metadata": {},
   "outputs": [],
   "source": [
    "# date : 2024-02-14\n",
    "# file : ds08_simpleLinkedList.ipynb\n",
    "# desc : 연결리스트 학습 다시"
   ]
  },
  {
   "cell_type": "markdown",
   "metadata": {},
   "source": [
    "## 자료구조/알고리즘\n",
    "\n",
    "- 연결리스트 중 단순 연결리스트 다시 학습\n",
    "\n",
    "## 단순 연결리스트\n",
    "1. Node 클래스 생성\n",
    "    1) 클래스 구조\n",
    "\n",
    "        |data|node|\n",
    "        |---|---|"
   ]
  },
  {
   "cell_type": "code",
   "execution_count": 64,
   "metadata": {},
   "outputs": [],
   "source": [
    "# 노드 클래스\n",
    "class Node():\n",
    "    data = None # 실제 데이터를 담은 변수\n",
    "    link = None # 다음 노드를 지정하는 변수\n",
    "\n",
    "    def __init__(self) -> None:\n",
    "        # data -> 위에 클래스의 data랑 다른 것이다 \n",
    "        self.data = None # 클래스 자신이  self이므로 클래스의 변수에 접근하려면 반드시 self\n",
    "        self.link = None"
   ]
  },
  {
   "cell_type": "markdown",
   "metadata": {},
   "source": [
    "2. 변수선언 및 연결리스트 구성"
   ]
  },
  {
   "cell_type": "code",
   "execution_count": 65,
   "metadata": {},
   "outputs": [],
   "source": [
    "memory = []\n",
    "head = None # 연결리스트 제일 첫 노드를 알려주는 변수, Node객체가 할당\n",
    "prev =  None # 현재 처리중인 노드 바로 앞 노드를 지정 변수\n",
    "curr = None # 현재 처리중인 노드를 지정 변수"
   ]
  },
  {
   "cell_type": "code",
   "execution_count": 66,
   "metadata": {},
   "outputs": [],
   "source": [
    "# 연결 데이터 순서 : 찬규, 지환, 경민, 소민, 은수...\n",
    "# 추가 데이터 : 주희, 수진, 창우, 정환\n",
    "# 삭제 데이터 : 찬규, 경민"
   ]
  },
  {
   "cell_type": "code",
   "execution_count": 67,
   "metadata": {},
   "outputs": [],
   "source": [
    "node = Node() # Node 객체 생성\n",
    "node.data = '찬규'\n",
    "head = node # 변수 node를 변수 head에 할당, head는 첫번째 노드 찬규를 가리킨다 "
   ]
  },
  {
   "cell_type": "code",
   "execution_count": 68,
   "metadata": {},
   "outputs": [],
   "source": [
    "prev = node # 현재 Node 객체를 prev변수 지정. prev가 현재 node객체를 가리킨다\n",
    "node = Node() # '찬규'를 들고 있는 node는 이미 head, prev에다 지정했기 때문, 다시 '지환'을 담을 새 node로 생성\n",
    "node.data = '지환'\n",
    "prev.link = node # '찬규'를 들고 있는 prev(==node 객체와 동일)에 다음 node가 '지환'인것을 지정(알려줌)"
   ]
  },
  {
   "cell_type": "code",
   "execution_count": 69,
   "metadata": {},
   "outputs": [],
   "source": [
    "prev = node # 현재 Node 객체를 prev변수 지정. prev가 현재 node객체를 가리킨다\n",
    "node = Node() # '찬규'를 들고 있는 node는 이미 head, prev에다 지정했기 때문, 다시 '경민'을 담을 새 node로 생성\n",
    "node.data = '경민'\n",
    "prev.link = node"
   ]
  },
  {
   "cell_type": "markdown",
   "metadata": {},
   "source": [
    "3. 연결리스트 출력할 함수 작성"
   ]
  },
  {
   "cell_type": "code",
   "execution_count": 70,
   "metadata": {},
   "outputs": [],
   "source": [
    "def printNodes(start): # start부터 시작해서 끝까지 node.data 출력\n",
    "    curr = start # start == head\n",
    "    if curr == None: return # break, continue는 반복문이 없으면 안됨\n",
    "    while True:\n",
    "        if curr.link == None: # 연결할 노드가 더이상 없으면\n",
    "            print(curr.data) # 자기 데이터만 출력하고\n",
    "            break # 반복문 탈출\n",
    "        else: \n",
    "            print(curr.data, end=' -> ') # 연결할 노드가 있으니까 연결 표기(->)를 해주고\n",
    "            curr = curr.link # 자기 뒤의 데이터를 curr로 바꿔줌"
   ]
  },
  {
   "cell_type": "code",
   "execution_count": 71,
   "metadata": {},
   "outputs": [
    {
     "name": "stdout",
     "output_type": "stream",
     "text": [
      "찬규 -> 지환 -> 경민\n"
     ]
    }
   ],
   "source": [
    "printNodes(head)"
   ]
  },
  {
   "cell_type": "code",
   "execution_count": 72,
   "metadata": {},
   "outputs": [],
   "source": [
    "originData = ['찬규', '지환', '경민', '소민', '은수']"
   ]
  },
  {
   "cell_type": "code",
   "execution_count": 73,
   "metadata": {},
   "outputs": [
    {
     "data": {
      "text/plain": [
       "'찬규'"
      ]
     },
     "execution_count": 73,
     "metadata": {},
     "output_type": "execute_result"
    }
   ],
   "source": [
    "originData[0]"
   ]
  },
  {
   "cell_type": "code",
   "execution_count": 74,
   "metadata": {},
   "outputs": [
    {
     "data": {
      "text/plain": [
       "['지환', '경민', '소민', '은수']"
      ]
     },
     "execution_count": 74,
     "metadata": {},
     "output_type": "execute_result"
    }
   ],
   "source": [
    "originData[1:] # == originData[1:len(originData)] : 뒤를 생략"
   ]
  },
  {
   "cell_type": "markdown",
   "metadata": {},
   "source": [
    "4. 연결리스트 맨 앞에 노드 삽입"
   ]
  },
  {
   "cell_type": "code",
   "execution_count": 75,
   "metadata": {},
   "outputs": [
    {
     "name": "stdout",
     "output_type": "stream",
     "text": [
      "찬규 -> 지환 -> 경민\n"
     ]
    }
   ],
   "source": [
    "printNodes(head)"
   ]
  },
  {
   "cell_type": "code",
   "execution_count": 76,
   "metadata": {},
   "outputs": [],
   "source": [
    "prev = node \n",
    "node = Node() \n",
    "node.data = '소민'\n",
    "prev.link = node"
   ]
  },
  {
   "cell_type": "code",
   "execution_count": 77,
   "metadata": {},
   "outputs": [],
   "source": [
    "prev = node \n",
    "node = Node() \n",
    "node.data = '은수'\n",
    "prev.link = node"
   ]
  },
  {
   "cell_type": "code",
   "execution_count": 78,
   "metadata": {},
   "outputs": [
    {
     "name": "stdout",
     "output_type": "stream",
     "text": [
      "찬규 -> 지환 -> 경민 -> 소민 -> 은수\n"
     ]
    }
   ],
   "source": [
    "printNodes(head)"
   ]
  },
  {
   "cell_type": "code",
   "execution_count": 79,
   "metadata": {},
   "outputs": [],
   "source": [
    "node =Node()\n",
    "node.data = '주희'\n",
    "node.link = head # 현재 '찬규'를 가리킴\n",
    "head = node # head가 변경"
   ]
  },
  {
   "cell_type": "code",
   "execution_count": 80,
   "metadata": {},
   "outputs": [
    {
     "name": "stdout",
     "output_type": "stream",
     "text": [
      "주희 -> 찬규 -> 지환 -> 경민 -> 소민 -> 은수\n"
     ]
    }
   ],
   "source": [
    "printNodes(head)"
   ]
  },
  {
   "cell_type": "markdown",
   "metadata": {},
   "source": [
    "5. 연결리스트 중간에 새 노드 삽입"
   ]
  },
  {
   "cell_type": "code",
   "execution_count": 81,
   "metadata": {},
   "outputs": [],
   "source": [
    "curr = head # curr가 제일 처음으로 이동\n",
    "\n",
    "while curr.link != None:\n",
    "    prev = curr # prev와 curr가 같은 노드를 가리킴\n",
    "    curr = curr.link # curr가 가리키는 다음 값을 curr로 지정(prev는 앞에 있고 curr가 뒤로 한칸 넘어감)\n",
    "\n",
    "    if curr.data == '소민':\n",
    "        node = Node()\n",
    "        node.data = '수진'\n",
    "        node.link = curr # '소민' node 앞에다 '수진' node를 연결\n",
    "        prev.link = node # '수진' node가 prev.link에 연결"
   ]
  },
  {
   "cell_type": "code",
   "execution_count": 82,
   "metadata": {},
   "outputs": [
    {
     "name": "stdout",
     "output_type": "stream",
     "text": [
      "주희 -> 찬규 -> 지환 -> 경민 -> 수진 -> 소민 -> 은수\n"
     ]
    }
   ],
   "source": [
    "printNodes(head)"
   ]
  },
  {
   "cell_type": "markdown",
   "metadata": {},
   "source": [
    "6. 연결리스트 마지막에 새 노드 삽입"
   ]
  },
  {
   "cell_type": "code",
   "execution_count": 83,
   "metadata": {},
   "outputs": [],
   "source": [
    "node = Node()\n",
    "node.data = '창우'\n",
    "curr.link = node"
   ]
  },
  {
   "cell_type": "code",
   "execution_count": 85,
   "metadata": {},
   "outputs": [
    {
     "name": "stdout",
     "output_type": "stream",
     "text": [
      "주희 -> 찬규 -> 지환 -> 경민 -> 수진 -> 소민 -> 은수 -> 창우\n"
     ]
    }
   ],
   "source": [
    "printNodes(head)"
   ]
  },
  {
   "cell_type": "markdown",
   "metadata": {},
   "source": [
    "#### 정리\n",
    "- 맨 앞, 중간에 삽입한 것 : 파이썬 list.insert(index, data) 동일\n",
    "\n",
    "- 맨 뒤 삽입한 것 : 파이썬 list.append(data)와 동일"
   ]
  },
  {
   "cell_type": "markdown",
   "metadata": {},
   "source": [
    "7. 첫번째 노드 삭제"
   ]
  },
  {
   "cell_type": "code",
   "execution_count": 86,
   "metadata": {},
   "outputs": [],
   "source": [
    "curr = head\n",
    "head = head.link"
   ]
  },
  {
   "cell_type": "code",
   "execution_count": 88,
   "metadata": {},
   "outputs": [],
   "source": [
    "del(curr)"
   ]
  },
  {
   "cell_type": "code",
   "execution_count": 89,
   "metadata": {},
   "outputs": [
    {
     "name": "stdout",
     "output_type": "stream",
     "text": [
      "찬규 -> 지환 -> 경민 -> 수진 -> 소민 -> 은수 -> 창우\n"
     ]
    }
   ],
   "source": [
    "printNodes(head)"
   ]
  },
  {
   "cell_type": "markdown",
   "metadata": {},
   "source": [
    "8. 첫번째 외 노드 삭제"
   ]
  },
  {
   "cell_type": "code",
   "execution_count": 92,
   "metadata": {},
   "outputs": [],
   "source": [
    "curr = head\n",
    "\n",
    "while curr.link != None:\n",
    "    prev = curr\n",
    "    curr = curr.link\n",
    "\n",
    "    if curr.data == '경민': # '경민' 노드 삭제\n",
    "        prev.link = curr.link\n",
    "        # curr.link = None # 굳이 이부분은 필요없음(지울거니까 ㅋ)\n",
    "        del(curr)"
   ]
  },
  {
   "cell_type": "code",
   "execution_count": 93,
   "metadata": {},
   "outputs": [
    {
     "name": "stdout",
     "output_type": "stream",
     "text": [
      "찬규 -> 지환 -> 수진 -> 소민 -> 은수 -> 창우\n"
     ]
    }
   ],
   "source": [
    "printNodes(head)"
   ]
  },
  {
   "cell_type": "code",
   "execution_count": 95,
   "metadata": {},
   "outputs": [],
   "source": [
    "curr = head\n",
    "\n",
    "while curr.link != None:\n",
    "    prev = curr\n",
    "    curr = curr.link\n",
    "\n",
    "    if curr.data == '소민': # '소민' 노드 삭제\n",
    "        prev.link = curr.link\n",
    "        # curr.link = None # 굳이 이부분은 필요없음(지울거니까 ㅋ)\n",
    "        del(curr)"
   ]
  },
  {
   "cell_type": "code",
   "execution_count": 96,
   "metadata": {},
   "outputs": [
    {
     "name": "stdout",
     "output_type": "stream",
     "text": [
      "찬규 -> 지환 -> 수진 -> 은수 -> 창우\n"
     ]
    }
   ],
   "source": [
    "printNodes(head)"
   ]
  },
  {
   "cell_type": "markdown",
   "metadata": {},
   "source": [
    "9. 노드 검색"
   ]
  },
  {
   "cell_type": "code",
   "execution_count": 102,
   "metadata": {},
   "outputs": [],
   "source": [
    "find = '현지'\n",
    "\n",
    "curr = head # curr 사용되는 변수라서 이 작업을 항상 해줘여 함\n",
    "if curr.data == find:\n",
    "    print(curr.data)\n",
    "\n",
    "while curr.link != None:\n",
    "    curr = curr.link # 다음 노드로 넘김\n",
    "    if curr.data == find:\n",
    "        print(curr.data)"
   ]
  },
  {
   "cell_type": "markdown",
   "metadata": {},
   "source": [
    "#### 정리\n",
    "- 노드 검색은 파이썬 리스트, list.index(), list.count() 우사"
   ]
  },
  {
   "cell_type": "code",
   "execution_count": 104,
   "metadata": {},
   "outputs": [
    {
     "data": {
      "text/plain": [
       "['찬규', '지환', '경민', '소민', '은수']"
      ]
     },
     "execution_count": 104,
     "metadata": {},
     "output_type": "execute_result"
    }
   ],
   "source": [
    "originData"
   ]
  },
  {
   "cell_type": "code",
   "execution_count": 117,
   "metadata": {},
   "outputs": [
    {
     "data": {
      "text/plain": [
       "1"
      ]
     },
     "execution_count": 117,
     "metadata": {},
     "output_type": "execute_result"
    }
   ],
   "source": [
    "originData.count('은수') # index는 위치, count는 개수"
   ]
  }
 ],
 "metadata": {
  "kernelspec": {
   "display_name": "Python 3",
   "language": "python",
   "name": "python3"
  },
  "language_info": {
   "codemirror_mode": {
    "name": "ipython",
    "version": 3
   },
   "file_extension": ".py",
   "mimetype": "text/x-python",
   "name": "python",
   "nbconvert_exporter": "python",
   "pygments_lexer": "ipython3",
   "version": "3.11.5"
  }
 },
 "nbformat": 4,
 "nbformat_minor": 2
}
